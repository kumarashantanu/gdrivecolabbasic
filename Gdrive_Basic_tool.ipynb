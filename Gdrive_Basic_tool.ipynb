{
  "nbformat": 4,
  "nbformat_minor": 0,
  "metadata": {
    "colab": {
      "name": "Gdrive Basic tool.ipynb",
      "provenance": [],
      "collapsed_sections": [],
      "authorship_tag": "ABX9TyPWkqE+KUm7nYPQu/smL1Qo",
      "include_colab_link": true
    },
    "kernelspec": {
      "name": "python3",
      "display_name": "Python 3"
    }
  },
  "cells": [
    {
      "cell_type": "markdown",
      "metadata": {
        "id": "view-in-github",
        "colab_type": "text"
      },
      "source": [
        "<a href=\"https://colab.research.google.com/github/kumarashantanu/gdrivecolabbasic/blob/master/Gdrive_Basic_tool.ipynb\" target=\"_parent\"><img src=\"https://colab.research.google.com/assets/colab-badge.svg\" alt=\"Open In Colab\"/></a>"
      ]
    },
    {
      "cell_type": "markdown",
      "metadata": {
        "id": "1cXDSd47PgjN",
        "colab_type": "text"
      },
      "source": [
        "Downlaod any file from internet to Google Drive"
      ]
    },
    {
      "cell_type": "code",
      "metadata": {
        "id": "52UbfPK4Psm0",
        "colab_type": "code",
        "colab": {}
      },
      "source": [
        "from google.colab import drive\n",
        "drive.mount('/content/drive')"
      ],
      "execution_count": null,
      "outputs": []
    },
    {
      "cell_type": "code",
      "metadata": {
        "id": "n_rfArcGPxR-",
        "colab_type": "code",
        "colab": {}
      },
      "source": [
        "import os\n",
        "os.chdir(\"/content/drive/My Drive\")\n",
        "!wget -c \"download-link\" --no-check-certificate"
      ],
      "execution_count": null,
      "outputs": []
    },
    {
      "cell_type": "markdown",
      "metadata": {
        "id": "o-7lQ-5YQD4X",
        "colab_type": "text"
      },
      "source": [
        "For unzip files from zip/archive"
      ]
    },
    {
      "cell_type": "code",
      "metadata": {
        "id": "en5h-qGdQL3E",
        "colab_type": "code",
        "colab": {}
      },
      "source": [
        "!unzip -uq \"/content/drive/My Drive/Space.zip\" -d \"/content/drive\""
      ],
      "execution_count": null,
      "outputs": []
    },
    {
      "cell_type": "markdown",
      "metadata": {
        "id": "IjgMhYiHQftj",
        "colab_type": "text"
      },
      "source": [
        "Add another drive to google colab"
      ]
    },
    {
      "cell_type": "code",
      "metadata": {
        "id": "qtsa-KcHQ3-q",
        "colab_type": "code",
        "colab": {}
      },
      "source": [
        "from google.colab import drive\n",
        "drive.mount('/content/drive', force_remount=True)"
      ],
      "execution_count": null,
      "outputs": []
    },
    {
      "cell_type": "code",
      "metadata": {
        "id": "mq3rPdtnQ8B3",
        "colab_type": "code",
        "colab": {}
      },
      "source": [
        "!apt-get install -y -qq software-properties-common python-software-properties module-init-tools\n",
        "!add-apt-repository -y ppa:alessandro-strada/ppa 2>&1 > /dev/null\n",
        "!apt-get update -qq 2>&1 > /dev/null\n",
        "!apt-get -y install -qq google-drive-ocamlfuse fuse\n",
        "from google.colab import auth\n",
        "auth.authenticate_user()\n",
        "from oauth2client.client import GoogleCredentials\n",
        "creds = GoogleCredentials.get_application_default()\n",
        "import getpass\n",
        "!google-drive-ocamlfuse -headless -id={creds.client_id} -secret={creds.client_secret} < /dev/null 2>&1 | grep URL\n",
        "vcode = getpass.getpass()\n",
        "!echo {vcode} | google-drive-ocamlfuse -headless -id={creds.client_id} -secret={creds.client_secret}\n",
        "!sudo mkdir /content/drive1\n",
        "!google-drive-ocamlfuse /content/drive1\n"
      ],
      "execution_count": null,
      "outputs": []
    },
    {
      "cell_type": "markdown",
      "metadata": {
        "id": "3t5Esz9E72Qy",
        "colab_type": "text"
      },
      "source": [
        "For unzip or unrar file"
      ]
    },
    {
      "cell_type": "code",
      "metadata": {
        "id": "3AcNb3wT78__",
        "colab_type": "code",
        "colab": {}
      },
      "source": [
        "!unzip \"/content/drive/My Drive/desktop1.zip\" -d \"/content/drive/My Drive/\""
      ],
      "execution_count": null,
      "outputs": []
    },
    {
      "cell_type": "markdown",
      "metadata": {
        "id": "bqi3pP218HBc",
        "colab_type": "text"
      },
      "source": [
        "For ZIP a folder or file"
      ]
    },
    {
      "cell_type": "code",
      "metadata": {
        "id": "JnHYSia78L_a",
        "colab_type": "code",
        "colab": {}
      },
      "source": [
        "!apt-get install rar"
      ],
      "execution_count": null,
      "outputs": []
    },
    {
      "cell_type": "code",
      "metadata": {
        "id": "hgnRU5UJ8T6S",
        "colab_type": "code",
        "colab": {}
      },
      "source": [
        "!zip -r \"/content/drive/My Drive/Getting started.zip\" \"/content/drive/My Drive/Getting started.pdf\""
      ],
      "execution_count": null,
      "outputs": []
    }
  ]
}